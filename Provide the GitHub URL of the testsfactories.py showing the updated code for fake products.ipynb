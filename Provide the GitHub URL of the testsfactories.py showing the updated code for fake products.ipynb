{
  "cells": [
    {
      "source": [
        "!pip install factory_boy"
      ],
      "cell_type": "code",
      "metadata": {
        "colab": {
          "base_uri": "https://localhost:8080/"
        },
        "id": "WQkrihwY0HWQ",
        "outputId": "539e0531-2876-4977-ac58-8c685f3c77ab"
      },
      "execution_count": null,
      "outputs": [
        {
          "output_type": "stream",
          "name": "stdout",
          "text": [
            "Requirement already satisfied: factory_boy in /usr/local/lib/python3.10/dist-packages (3.3.1)\n",
            "Requirement already satisfied: Faker>=0.7.0 in /usr/local/lib/python3.10/dist-packages (from factory_boy) (28.4.1)\n",
            "Requirement already satisfied: python-dateutil>=2.4 in /usr/local/lib/python3.10/dist-packages (from Faker>=0.7.0->factory_boy) (2.8.2)\n",
            "Requirement already satisfied: six>=1.5 in /usr/local/lib/python3.10/dist-packages (from python-dateutil>=2.4->Faker>=0.7.0->factory_boy) (1.16.0)\n"
          ]
        }
      ]
    },
    {
      "cell_type": "code",
      "source": [
        "\"\"\"\n",
        "Test Factory to make fake objects for testing\n",
        "\"\"\"\n",
        "from datetime import date\n",
        "\n",
        "!pip install factory_boy # Install the factory_boy package\n",
        "import factory # The factory module is part of the factory_boy package\n",
        "from factory.fuzzy import FuzzyChoice, FuzzyFloat, FuzzyInteger\n",
        "# from service.models import Product # Assuming 'Product' is defined in a file named 'models.py' within your current directory\n",
        "\n",
        "class ProductFactory(factory.Factory):\n",
        "    \"\"\"Creates fake products that you don't have to feed\"\"\"\n",
        "\n",
        "    class Meta:  # pylint: disable=too-few-public-methods\n",
        "        \"\"\"Maps factory to data model\"\"\"\n",
        "\n",
        "        # model = Product # Assuming 'Product' is a class defined in 'models.py'\n",
        "\n",
        "    id = factory.Sequence(lambda n: n)\n",
        "    name = FuzzyChoice(choices=[\"Orange Juice\", \"Milk\", \"Carrot\", \"Ice Cream\"])\n",
        "    desc = factory.Faker(\"word\")\n",
        "    price = FuzzyFloat(10, 60)\n",
        "    category = FuzzyChoice(choices=[\"beverage\", \"dairy\", \"fresh food\", \"frozen\"])\n",
        "    inventory = FuzzyInteger(0, 40)\n",
        "    discount = FuzzyChoice(choices=[0.3, 0.75, 0.9])\n",
        "    like = FuzzyInteger(0, 100)\n",
        "    created_date = date(2008, 1, 1)\n",
        "    modified_date = date(2008, 1, 2)\n",
        "    deleted_date = date(2008, 1, 3)"
      ],
      "metadata": {
        "colab": {
          "base_uri": "https://localhost:8080/"
        },
        "id": "w_o79dwT0ZmJ",
        "outputId": "489226ac-f9ff-4195-f8eb-9e306a6080c2"
      },
      "execution_count": null,
      "outputs": [
        {
          "output_type": "stream",
          "name": "stdout",
          "text": [
            "Requirement already satisfied: factory_boy in /usr/local/lib/python3.10/dist-packages (3.3.1)\n",
            "Requirement already satisfied: Faker>=0.7.0 in /usr/local/lib/python3.10/dist-packages (from factory_boy) (28.4.1)\n",
            "Requirement already satisfied: python-dateutil>=2.4 in /usr/local/lib/python3.10/dist-packages (from Faker>=0.7.0->factory_boy) (2.8.2)\n",
            "Requirement already satisfied: six>=1.5 in /usr/local/lib/python3.10/dist-packages (from python-dateutil>=2.4->Faker>=0.7.0->factory_boy) (1.16.0)\n"
          ]
        }
      ]
    }
  ],
  "metadata": {
    "colab": {
      "name": "Welcome To Colab",
      "toc_visible": true,
      "provenance": []
    },
    "kernelspec": {
      "display_name": "Python 3",
      "name": "python3"
    }
  },
  "nbformat": 4,
  "nbformat_minor": 0
}